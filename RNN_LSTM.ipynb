{
  "nbformat": 4,
  "nbformat_minor": 0,
  "metadata": {
    "colab": {
      "name": "RNN_LSTM.ipynb",
      "provenance": [],
      "collapsed_sections": [],
      "authorship_tag": "ABX9TyOGB/+QGPb90OtZDLubmdhQ",
      "include_colab_link": true
    },
    "kernelspec": {
      "name": "python3",
      "display_name": "Python 3"
    }
  },
  "cells": [
    {
      "cell_type": "markdown",
      "metadata": {
        "id": "view-in-github",
        "colab_type": "text"
      },
      "source": [
        "<a href=\"https://colab.research.google.com/github/dasog94/3_min_keras/blob/master/RNN_LSTM.ipynb\" target=\"_parent\"><img src=\"https://colab.research.google.com/assets/colab-badge.svg\" alt=\"Open In Colab\"/></a>"
      ]
    },
    {
      "cell_type": "code",
      "metadata": {
        "id": "1NzZMSS95_1t",
        "colab_type": "code",
        "colab": {
          "base_uri": "https://localhost:8080/",
          "height": 35
        },
        "outputId": "554c6da8-ae63-40fd-fc83-af41fabb3e93"
      },
      "source": [
        "from __future__ import print_function\n",
        "\n",
        "from keras.preprocessing import sequence\n",
        "from keras.datasets import imdb\n",
        "from keras import layers, models\n"
      ],
      "execution_count": null,
      "outputs": [
        {
          "output_type": "stream",
          "text": [
            "Using TensorFlow backend.\n"
          ],
          "name": "stderr"
        }
      ]
    },
    {
      "cell_type": "code",
      "metadata": {
        "id": "gjuvmdJD6vMX",
        "colab_type": "code",
        "colab": {}
      },
      "source": [
        "class Data:\n",
        "  def __init__(self, max_features=20000, maxlen=80):\n",
        "    (x_train, y_train), (x_test, y_test) = imdb.load_data(num_words=max_features)\n",
        "    x_train = sequence.pad_sequences(x_train, maxlen=maxlen)\n",
        "    x_test = sequence.pad_sequences(x_test, maxlen=maxlen)\n",
        "    self.x_train, self.y_train = x_train, y_train\n",
        "    self.x_test, self.y_test = x_test, y_test\n"
      ],
      "execution_count": null,
      "outputs": []
    },
    {
      "cell_type": "code",
      "metadata": {
        "id": "aiqjKMmy7gsa",
        "colab_type": "code",
        "colab": {}
      },
      "source": [
        "class RNN_LSTM(models.Model):\n",
        "  def __init__(self, max_features, maxlen):\n",
        "    x = layers.Input((maxlen,))\n",
        "    h = layers.Embedding(max_features, 128)(x)\n",
        "    h = layers.LSTM(128, dropout=0.2, recurrent_dropout=0.2)(h)\n",
        "    y = layers.Dense(1, activation='sigmoid')(h)\n",
        "    super().__init__(x, y)\n",
        "\n",
        "    self.compile(loss='binary_crossentropy', optimizer='adam', metrics=['accuracy'])"
      ],
      "execution_count": null,
      "outputs": []
    },
    {
      "cell_type": "code",
      "metadata": {
        "id": "A_q02VXq9KVY",
        "colab_type": "code",
        "colab": {}
      },
      "source": [
        "class Machine:\n",
        "  def __init__(self, max_features=20000, maxlen=80):\n",
        "    self.data = Data(max_features, maxlen)\n",
        "    self.model = RNN_LSTM(max_features, maxlen)\n",
        "\n",
        "  def run(self, epochs=3, batch_size=32):\n",
        "    data = self.data\n",
        "    model = self.model\n",
        "    print(\"Training Stage\")\n",
        "    print(\"==============\")\n",
        "\n",
        "    model.fit(data.x_train, data.y_train, batch_size=batch_size, epochs=epochs, validation_data=(data.x_test, data.y_test))\n",
        "    score, acc = model.evaluate(data.x_test, data.y_test, batch_size=batch_size)\n",
        "    print(\"Test performance: accuracy={0}, loss={1}\".format(acc, score))"
      ],
      "execution_count": null,
      "outputs": []
    },
    {
      "cell_type": "code",
      "metadata": {
        "id": "LHJaAtaG-UYp",
        "colab_type": "code",
        "colab": {}
      },
      "source": [
        "def main():\n",
        "  m = Machine()\n",
        "  m.run()"
      ],
      "execution_count": null,
      "outputs": []
    },
    {
      "cell_type": "code",
      "metadata": {
        "id": "Z4lGviTq7DAX",
        "colab_type": "code",
        "colab": {
          "base_uri": "https://localhost:8080/",
          "height": 248
        },
        "outputId": "a7af2de5-23bc-4011-add5-88fdedbd30a1"
      },
      "source": [
        "if __name__ == '__main__':\n",
        "  main()"
      ],
      "execution_count": null,
      "outputs": [
        {
          "output_type": "stream",
          "text": [
            "Training Stage\n",
            "==============\n"
          ],
          "name": "stdout"
        },
        {
          "output_type": "stream",
          "text": [
            "/usr/local/lib/python3.6/dist-packages/tensorflow/python/framework/indexed_slices.py:434: UserWarning: Converting sparse IndexedSlices to a dense Tensor of unknown shape. This may consume a large amount of memory.\n",
            "  \"Converting sparse IndexedSlices to a dense Tensor of unknown shape. \"\n"
          ],
          "name": "stderr"
        },
        {
          "output_type": "stream",
          "text": [
            "Train on 25000 samples, validate on 25000 samples\n",
            "Epoch 1/3\n",
            "25000/25000 [==============================] - 133s 5ms/step - loss: 0.4606 - accuracy: 0.7802 - val_loss: 0.3873 - val_accuracy: 0.8334\n",
            "Epoch 2/3\n",
            "25000/25000 [==============================] - 133s 5ms/step - loss: 0.2964 - accuracy: 0.8774 - val_loss: 0.3851 - val_accuracy: 0.8331\n",
            "Epoch 3/3\n",
            "25000/25000 [==============================] - 134s 5ms/step - loss: 0.2121 - accuracy: 0.9202 - val_loss: 0.4184 - val_accuracy: 0.8333\n",
            "25000/25000 [==============================] - 22s 883us/step\n",
            "Test performance: accuracy=0.8332800269126892, loss=0.41836388751983644\n"
          ],
          "name": "stdout"
        }
      ]
    },
    {
      "cell_type": "code",
      "metadata": {
        "id": "MaByQLx4_x7c",
        "colab_type": "code",
        "colab": {
          "base_uri": "https://localhost:8080/",
          "height": 301
        },
        "outputId": "03b7cfa2-c9ac-4d19-a0fb-78d0cc063941"
      },
      "source": [
        "m = Machine()\n",
        "m.model.summary()"
      ],
      "execution_count": null,
      "outputs": [
        {
          "output_type": "stream",
          "text": [
            "Model: \"rnn_lstm_3\"\n",
            "_________________________________________________________________\n",
            "Layer (type)                 Output Shape              Param #   \n",
            "=================================================================\n",
            "input_3 (InputLayer)         (None, 80)                0         \n",
            "_________________________________________________________________\n",
            "embedding_3 (Embedding)      (None, 80, 128)           2560000   \n",
            "_________________________________________________________________\n",
            "lstm_3 (LSTM)                (None, 128)               131584    \n",
            "_________________________________________________________________\n",
            "dense_3 (Dense)              (None, 1)                 129       \n",
            "=================================================================\n",
            "Total params: 2,691,713\n",
            "Trainable params: 2,691,713\n",
            "Non-trainable params: 0\n",
            "_________________________________________________________________\n"
          ],
          "name": "stdout"
        }
      ]
    }
  ]
}