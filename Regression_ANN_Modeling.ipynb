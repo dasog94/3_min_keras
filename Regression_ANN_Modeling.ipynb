{
  "nbformat": 4,
  "nbformat_minor": 0,
  "metadata": {
    "colab": {
      "name": "Regression ANN Modeling.ipynb",
      "provenance": [],
      "collapsed_sections": [],
      "authorship_tag": "ABX9TyO16CFvm5yPIzPVgE20Izxf",
      "include_colab_link": true
    },
    "kernelspec": {
      "name": "python3",
      "display_name": "Python 3"
    }
  },
  "cells": [
    {
      "cell_type": "markdown",
      "metadata": {
        "id": "view-in-github",
        "colab_type": "text"
      },
      "source": [
        "<a href=\"https://colab.research.google.com/github/dasog94/3_min_keras/blob/master/Regression_ANN_Modeling.ipynb\" target=\"_parent\"><img src=\"https://colab.research.google.com/assets/colab-badge.svg\" alt=\"Open In Colab\"/></a>"
      ]
    },
    {
      "cell_type": "code",
      "metadata": {
        "id": "7joBv09MVccY",
        "colab_type": "code",
        "colab": {
          "base_uri": "https://localhost:8080/",
          "height": 34
        },
        "outputId": "e114ee30-762c-4880-e426-0938f711b140"
      },
      "source": [
        "from keras import layers, models"
      ],
      "execution_count": null,
      "outputs": [
        {
          "output_type": "stream",
          "text": [
            "Using TensorFlow backend.\n"
          ],
          "name": "stderr"
        }
      ]
    },
    {
      "cell_type": "code",
      "metadata": {
        "id": "RztmVmPXWwd8",
        "colab_type": "code",
        "colab": {}
      },
      "source": [
        "class ANN(models.Model):\n",
        "  def __init__(self, Nin, Nh, Nout):\n",
        "    hidden = layers.Dense(Nh)\n",
        "    output = layers.Dense(Nout)\n",
        "    relu = layers.Activation('relu')\n",
        "\n",
        "    x = layers.Input(shape=(Nin,))\n",
        "    h = relu(hidden(x))\n",
        "    y = output(h)\n",
        "\n",
        "    super().__init__(x, y)\n",
        "\n",
        "    self.compile(loss='mse', optimizer='sgd')"
      ],
      "execution_count": null,
      "outputs": []
    },
    {
      "cell_type": "code",
      "metadata": {
        "id": "oMEvKPzQYkOK",
        "colab_type": "code",
        "colab": {}
      },
      "source": [
        "from keras import datasets\n",
        "from sklearn import preprocessing"
      ],
      "execution_count": null,
      "outputs": []
    },
    {
      "cell_type": "code",
      "metadata": {
        "id": "Y3xxYdqIYvQx",
        "colab_type": "code",
        "colab": {}
      },
      "source": [
        "def Data_func():\n",
        "  (X_train, y_train), (X_test, y_test) = datasets.boston_housing.load_data()\n",
        "  scaler = preprocessing.MinMaxScaler()\n",
        "  X_train = scaler.fit_transform(X_train)\n",
        "  X_test = scaler.transform(X_test)\n",
        "\n",
        "  return (X_train, y_train), (X_test, y_test)"
      ],
      "execution_count": null,
      "outputs": []
    },
    {
      "cell_type": "code",
      "metadata": {
        "id": "tkrGWPccZHMR",
        "colab_type": "code",
        "colab": {}
      },
      "source": [
        "def main():\n",
        "  Nin = 13\n",
        "  Nh = 5\n",
        "  Nout = 1\n",
        "\n",
        "  model = ANN(Nin, Nh, Nout)\n",
        "  (X_train, y_train), (X_test, y_test) = Data_func()\n",
        "\n",
        "  history = model.fit(X_train, y_train, epochs = 100, batch_size = 100, validation_split=0.2, verbose = 2)\n",
        "\n",
        "  performance_test = model.evaluate(X_test, y_test, batch_size = 100)\n",
        "  print('\\nTest Loss -> {:.2f}'.format(performance_test))"
      ],
      "execution_count": null,
      "outputs": []
    },
    {
      "cell_type": "code",
      "metadata": {
        "id": "DUlimxzlbZwH",
        "colab_type": "code",
        "colab": {
          "base_uri": "https://localhost:8080/",
          "height": 1000
        },
        "outputId": "75dc5230-d902-49b6-b2a9-7cf7b5da20c3"
      },
      "source": [
        "if __name__ == '__main__':\n",
        "  main()"
      ],
      "execution_count": null,
      "outputs": [
        {
          "output_type": "stream",
          "text": [
            "Train on 323 samples, validate on 81 samples\n",
            "Epoch 1/100\n",
            " - 0s - loss: 449.8735 - val_loss: 113.2017\n",
            "Epoch 2/100\n",
            " - 0s - loss: 94.0197 - val_loss: 113.7753\n",
            "Epoch 3/100\n",
            " - 0s - loss: 105.3232 - val_loss: 72.9370\n",
            "Epoch 4/100\n",
            " - 0s - loss: 95.0766 - val_loss: 63.5497\n",
            "Epoch 5/100\n",
            " - 0s - loss: 62.6236 - val_loss: 57.9427\n",
            "Epoch 6/100\n",
            " - 0s - loss: 53.7476 - val_loss: 55.8554\n",
            "Epoch 7/100\n",
            " - 0s - loss: 56.3393 - val_loss: 58.9693\n",
            "Epoch 8/100\n",
            " - 0s - loss: 51.7637 - val_loss: 87.1384\n",
            "Epoch 9/100\n",
            " - 0s - loss: 68.9397 - val_loss: 67.0893\n",
            "Epoch 10/100\n",
            " - 0s - loss: 47.0287 - val_loss: 48.1299\n",
            "Epoch 11/100\n",
            " - 0s - loss: 44.7664 - val_loss: 48.4744\n",
            "Epoch 12/100\n",
            " - 0s - loss: 42.0678 - val_loss: 50.6109\n",
            "Epoch 13/100\n",
            " - 0s - loss: 60.9694 - val_loss: 40.4371\n",
            "Epoch 14/100\n",
            " - 0s - loss: 39.9769 - val_loss: 44.7625\n",
            "Epoch 15/100\n",
            " - 0s - loss: 39.4807 - val_loss: 38.9628\n",
            "Epoch 16/100\n",
            " - 0s - loss: 38.9206 - val_loss: 51.0380\n",
            "Epoch 17/100\n",
            " - 0s - loss: 43.4276 - val_loss: 61.0420\n",
            "Epoch 18/100\n",
            " - 0s - loss: 52.3671 - val_loss: 93.0238\n",
            "Epoch 19/100\n",
            " - 0s - loss: 60.1120 - val_loss: 47.7565\n",
            "Epoch 20/100\n",
            " - 0s - loss: 42.0533 - val_loss: 39.1714\n",
            "Epoch 21/100\n",
            " - 0s - loss: 34.6522 - val_loss: 43.8404\n",
            "Epoch 22/100\n",
            " - 0s - loss: 45.2713 - val_loss: 105.1474\n",
            "Epoch 23/100\n",
            " - 0s - loss: 55.4637 - val_loss: 59.4268\n",
            "Epoch 24/100\n",
            " - 0s - loss: 37.7678 - val_loss: 29.8388\n",
            "Epoch 25/100\n",
            " - 0s - loss: 29.7077 - val_loss: 40.0831\n",
            "Epoch 26/100\n",
            " - 0s - loss: 35.9011 - val_loss: 102.6274\n",
            "Epoch 27/100\n",
            " - 0s - loss: 93.0011 - val_loss: 40.1147\n",
            "Epoch 28/100\n",
            " - 0s - loss: 38.9172 - val_loss: 61.2696\n",
            "Epoch 29/100\n",
            " - 0s - loss: 41.9068 - val_loss: 42.2023\n",
            "Epoch 30/100\n",
            " - 0s - loss: 32.3596 - val_loss: 30.8896\n",
            "Epoch 31/100\n",
            " - 0s - loss: 39.7573 - val_loss: 46.9978\n",
            "Epoch 32/100\n",
            " - 0s - loss: 28.9731 - val_loss: 25.3448\n",
            "Epoch 33/100\n",
            " - 0s - loss: 25.8416 - val_loss: 26.0305\n",
            "Epoch 34/100\n",
            " - 0s - loss: 26.0357 - val_loss: 28.1940\n",
            "Epoch 35/100\n",
            " - 0s - loss: 29.9332 - val_loss: 26.4353\n",
            "Epoch 36/100\n",
            " - 0s - loss: 25.9574 - val_loss: 32.9289\n",
            "Epoch 37/100\n",
            " - 0s - loss: 40.0942 - val_loss: 41.9323\n",
            "Epoch 38/100\n",
            " - 0s - loss: 30.8314 - val_loss: 26.3357\n",
            "Epoch 39/100\n",
            " - 0s - loss: 24.0543 - val_loss: 23.6210\n",
            "Epoch 40/100\n",
            " - 0s - loss: 24.7959 - val_loss: 22.1762\n",
            "Epoch 41/100\n",
            " - 0s - loss: 23.8462 - val_loss: 26.0439\n",
            "Epoch 42/100\n",
            " - 0s - loss: 25.8525 - val_loss: 26.4022\n",
            "Epoch 43/100\n",
            " - 0s - loss: 24.0021 - val_loss: 48.9239\n",
            "Epoch 44/100\n",
            " - 0s - loss: 54.2426 - val_loss: 23.7067\n",
            "Epoch 45/100\n",
            " - 0s - loss: 29.7897 - val_loss: 24.8029\n",
            "Epoch 46/100\n",
            " - 0s - loss: 24.4938 - val_loss: 32.5912\n",
            "Epoch 47/100\n",
            " - 0s - loss: 23.8609 - val_loss: 45.6441\n",
            "Epoch 48/100\n",
            " - 0s - loss: 32.0388 - val_loss: 22.9973\n",
            "Epoch 49/100\n",
            " - 0s - loss: 22.5002 - val_loss: 21.2528\n",
            "Epoch 50/100\n",
            " - 0s - loss: 22.2403 - val_loss: 22.7975\n",
            "Epoch 51/100\n",
            " - 0s - loss: 22.4358 - val_loss: 21.2147\n",
            "Epoch 52/100\n",
            " - 0s - loss: 21.6215 - val_loss: 25.6794\n",
            "Epoch 53/100\n",
            " - 0s - loss: 22.1314 - val_loss: 20.8117\n",
            "Epoch 54/100\n",
            " - 0s - loss: 25.2199 - val_loss: 34.3788\n",
            "Epoch 55/100\n",
            " - 0s - loss: 27.9815 - val_loss: 24.2283\n",
            "Epoch 56/100\n",
            " - 0s - loss: 22.1631 - val_loss: 20.0861\n",
            "Epoch 57/100\n",
            " - 0s - loss: 22.4469 - val_loss: 20.5391\n",
            "Epoch 58/100\n",
            " - 0s - loss: 20.8808 - val_loss: 19.9563\n",
            "Epoch 59/100\n",
            " - 0s - loss: 20.9263 - val_loss: 24.2201\n",
            "Epoch 60/100\n",
            " - 0s - loss: 23.2787 - val_loss: 22.3137\n",
            "Epoch 61/100\n",
            " - 0s - loss: 28.0900 - val_loss: 24.5244\n",
            "Epoch 62/100\n",
            " - 0s - loss: 22.8840 - val_loss: 35.2893\n",
            "Epoch 63/100\n",
            " - 0s - loss: 28.8166 - val_loss: 21.1642\n",
            "Epoch 64/100\n",
            " - 0s - loss: 22.9593 - val_loss: 26.6556\n",
            "Epoch 65/100\n",
            " - 0s - loss: 22.2668 - val_loss: 19.1508\n",
            "Epoch 66/100\n",
            " - 0s - loss: 21.9923 - val_loss: 22.9173\n",
            "Epoch 67/100\n",
            " - 0s - loss: 22.8804 - val_loss: 19.5350\n",
            "Epoch 68/100\n",
            " - 0s - loss: 20.9268 - val_loss: 19.5888\n",
            "Epoch 69/100\n",
            " - 0s - loss: 20.2002 - val_loss: 20.3088\n",
            "Epoch 70/100\n",
            " - 0s - loss: 20.1982 - val_loss: 20.6798\n",
            "Epoch 71/100\n",
            " - 0s - loss: 22.5189 - val_loss: 23.3778\n",
            "Epoch 72/100\n",
            " - 0s - loss: 31.3511 - val_loss: 20.6585\n",
            "Epoch 73/100\n",
            " - 0s - loss: 20.5037 - val_loss: 19.3886\n",
            "Epoch 74/100\n",
            " - 0s - loss: 22.0623 - val_loss: 43.1010\n",
            "Epoch 75/100\n",
            " - 0s - loss: 31.5593 - val_loss: 21.8543\n",
            "Epoch 76/100\n",
            " - 0s - loss: 23.3666 - val_loss: 56.7326\n",
            "Epoch 77/100\n",
            " - 0s - loss: 33.8342 - val_loss: 23.1480\n",
            "Epoch 78/100\n",
            " - 0s - loss: 20.4794 - val_loss: 27.7161\n",
            "Epoch 79/100\n",
            " - 0s - loss: 42.8365 - val_loss: 41.6135\n",
            "Epoch 80/100\n",
            " - 0s - loss: 47.6616 - val_loss: 20.8196\n",
            "Epoch 81/100\n",
            " - 0s - loss: 21.2293 - val_loss: 18.4576\n",
            "Epoch 82/100\n",
            " - 0s - loss: 19.8867 - val_loss: 21.0423\n",
            "Epoch 83/100\n",
            " - 0s - loss: 19.6119 - val_loss: 19.2246\n",
            "Epoch 84/100\n",
            " - 0s - loss: 19.2415 - val_loss: 19.4229\n",
            "Epoch 85/100\n",
            " - 0s - loss: 25.2028 - val_loss: 53.0134\n",
            "Epoch 86/100\n",
            " - 0s - loss: 32.2252 - val_loss: 47.1806\n",
            "Epoch 87/100\n",
            " - 0s - loss: 45.9287 - val_loss: 29.0336\n",
            "Epoch 88/100\n",
            " - 0s - loss: 29.7564 - val_loss: 17.7559\n",
            "Epoch 89/100\n",
            " - 0s - loss: 20.9447 - val_loss: 27.2153\n",
            "Epoch 90/100\n",
            " - 0s - loss: 20.2997 - val_loss: 22.0170\n",
            "Epoch 91/100\n",
            " - 0s - loss: 26.9305 - val_loss: 26.0005\n",
            "Epoch 92/100\n",
            " - 0s - loss: 21.6853 - val_loss: 20.3364\n",
            "Epoch 93/100\n",
            " - 0s - loss: 19.8758 - val_loss: 38.5125\n",
            "Epoch 94/100\n",
            " - 0s - loss: 23.4390 - val_loss: 22.6654\n",
            "Epoch 95/100\n",
            " - 0s - loss: 27.8079 - val_loss: 26.4467\n",
            "Epoch 96/100\n",
            " - 0s - loss: 24.0267 - val_loss: 18.3127\n",
            "Epoch 97/100\n",
            " - 0s - loss: 21.4508 - val_loss: 19.0809\n",
            "Epoch 98/100\n",
            " - 0s - loss: 20.1702 - val_loss: 22.2373\n",
            "Epoch 99/100\n",
            " - 0s - loss: 20.0258 - val_loss: 17.9116\n",
            "Epoch 100/100\n",
            " - 0s - loss: 18.7825 - val_loss: 19.2633\n",
            "102/102 [==============================] - 0s 25us/step\n",
            "\n",
            "Test Loss -> 23.71\n"
          ],
          "name": "stdout"
        }
      ]
    },
    {
      "cell_type": "code",
      "metadata": {
        "id": "TmSsYhFNbeH8",
        "colab_type": "code",
        "colab": {}
      },
      "source": [
        ""
      ],
      "execution_count": null,
      "outputs": []
    }
  ]
}