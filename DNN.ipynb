{
  "nbformat": 4,
  "nbformat_minor": 0,
  "metadata": {
    "colab": {
      "name": "DNN.ipynb",
      "provenance": [],
      "collapsed_sections": [],
      "authorship_tag": "ABX9TyOnQyaSSpBNUicnvVZWZDsw",
      "include_colab_link": true
    },
    "kernelspec": {
      "name": "python3",
      "display_name": "Python 3"
    }
  },
  "cells": [
    {
      "cell_type": "markdown",
      "metadata": {
        "id": "view-in-github",
        "colab_type": "text"
      },
      "source": [
        "<a href=\"https://colab.research.google.com/github/dasog94/3_min_keras/blob/master/DNN.ipynb\" target=\"_parent\"><img src=\"https://colab.research.google.com/assets/colab-badge.svg\" alt=\"Open In Colab\"/></a>"
      ]
    },
    {
      "cell_type": "code",
      "metadata": {
        "id": "N6Jpi9TsH7J_",
        "colab_type": "code",
        "colab": {
          "base_uri": "https://localhost:8080/",
          "height": 34
        },
        "outputId": "97d1fbf1-d85c-4cb0-ceeb-b71df4b8e98d"
      },
      "source": [
        "!git clone https://github.com/dasog94/3_min_keras.git"
      ],
      "execution_count": 41,
      "outputs": [
        {
          "output_type": "stream",
          "text": [
            "fatal: destination path '3_min_keras' already exists and is not an empty directory.\n"
          ],
          "name": "stdout"
        }
      ]
    },
    {
      "cell_type": "code",
      "metadata": {
        "id": "DJ3Wt0GPIIGd",
        "colab_type": "code",
        "colab": {
          "base_uri": "https://localhost:8080/",
          "height": 34
        },
        "outputId": "67d5245f-f4f3-468e-a552-14ad13292141"
      },
      "source": [
        "cd 3_min_keras/"
      ],
      "execution_count": 43,
      "outputs": [
        {
          "output_type": "stream",
          "text": [
            "/content/3_min_keras/3_min_keras\n"
          ],
          "name": "stdout"
        }
      ]
    },
    {
      "cell_type": "code",
      "metadata": {
        "id": "Fmc7VI3Z-EQj",
        "colab_type": "code",
        "colab": {}
      },
      "source": [
        "from keras import models, layers\n",
        "\n",
        "Nin = 784\n",
        "Nh_1 = [100, 50]\n",
        "number_of_class = 10\n",
        "Nout = number_of_class"
      ],
      "execution_count": 19,
      "outputs": []
    },
    {
      "cell_type": "code",
      "metadata": {
        "id": "tS8B035D-NrX",
        "colab_type": "code",
        "colab": {}
      },
      "source": [
        "class DNN(models.Sequential):\n",
        "  def __init__(self, Nin, Nh_1, Nout):\n",
        "    super().__init__()\n",
        "    self.add(layers.Dense(Nh_1[0], activation='relu', input_shape=(Nin,), name='Hidden-1'))\n",
        "    self.add(layers.Dropout(0.2))\n",
        "    self.add(layers.Dense(Nh_1[1], activation='relu', name='Hidden-2'))\n",
        "    # self.add(layers.Dropout(0.2))\n",
        "    self.add(layers.Dense(Nout, activation='softmax'))\n",
        "\n",
        "    self.compile(loss='categorical_crossentropy', optimizer='adam', metrics=['accuracy'])"
      ],
      "execution_count": 23,
      "outputs": []
    },
    {
      "cell_type": "code",
      "metadata": {
        "id": "EMPxgo12PgY3",
        "colab_type": "code",
        "colab": {}
      },
      "source": [
        "class DNN_models_class(models.Model):\n",
        "  def __init__(self, Nin, Nh_1, Nout):\n",
        "    hidden_1 = layers.Dense(Nh_1[0])\n",
        "    hidden_2 = layers.Dense(Nh_1[1])\n",
        "    output = layers.Dense(Nout)\n",
        "    relu = layers.Activation('relu')\n",
        "    softmax = layers.Activation('softmax')\n",
        "    dropout = layers.Dropout(0.2)\n",
        "\n",
        "    x = layers.Input(shape=(Nin,))\n",
        "    h_1 = dropout(relu(hidden_1(x)))\n",
        "    h_2 = relu(hidden_2(h_1))\n",
        "    y = softmax(output(h_2))\n",
        "\n",
        "    super().__init__(x, y)\n",
        "    self.compile(loss='categorical_crossentropy',\n",
        "                 optimizer='adam',\n",
        "                 metrics=['accuracy'])"
      ],
      "execution_count": 49,
      "outputs": []
    },
    {
      "cell_type": "code",
      "metadata": {
        "id": "krtbzPrC-e2m",
        "colab_type": "code",
        "colab": {
          "base_uri": "https://localhost:8080/",
          "height": 34
        },
        "outputId": "e22ceeab-5c41-4f0e-94cc-4c35f1eb7f6d"
      },
      "source": [
        "import numpy as np\n",
        "from keras import datasets #mnist\n",
        "from keras.utils import np_utils # to_categorical\n",
        "\n",
        "(X_train, y_train), (X_test, y_test) = datasets.mnist.load_data()\n",
        "\n",
        "Y_train = np_utils.to_categorical(y_train)\n",
        "Y_test = np_utils.to_categorical(y_test)\n",
        "\n",
        "L, W, H = X_train.shape\n",
        "\n",
        "print(X_train.shape)\n"
      ],
      "execution_count": 10,
      "outputs": [
        {
          "output_type": "stream",
          "text": [
            "(60000, 28, 28)\n"
          ],
          "name": "stdout"
        }
      ]
    },
    {
      "cell_type": "code",
      "metadata": {
        "id": "BPy9aYGkA7W_",
        "colab_type": "code",
        "colab": {
          "base_uri": "https://localhost:8080/",
          "height": 52
        },
        "outputId": "6cbbf272-236f-4bf9-d1c7-e2de74d77557"
      },
      "source": [
        "X_train = X_train.reshape(-1,W*H)\n",
        "X_test = X_test.reshape(-1, W*H)\n",
        "\n",
        "print(X_train.shape)\n",
        "print(X_test.shape)\n"
      ],
      "execution_count": 12,
      "outputs": [
        {
          "output_type": "stream",
          "text": [
            "(60000, 784)\n",
            "(10000, 784)\n"
          ],
          "name": "stdout"
        }
      ]
    },
    {
      "cell_type": "code",
      "metadata": {
        "id": "6YW7RlvPBjov",
        "colab_type": "code",
        "colab": {}
      },
      "source": [
        "X_train = X_train / 255.0\n",
        "X_test = X_test / 255.0"
      ],
      "execution_count": 25,
      "outputs": []
    },
    {
      "cell_type": "code",
      "metadata": {
        "id": "kSOHRF1nBuJZ",
        "colab_type": "code",
        "colab": {}
      },
      "source": [
        "import matplotlib.pyplot as plt\n",
        "\n",
        "def plot_loss(history):\n",
        "  plt.plot(history.history['loss'])\n",
        "  plt.plot(history.history['val_loss'])\n",
        "  plt.title('Model Loss')\n",
        "  plt.ylabel('Loss')\n",
        "  plt.xlabel('Epoch')\n",
        "  plt.legend(['Train', 'Test'], loc = 0)\n",
        "\n",
        "def plot_acc(history):\n",
        "  plt.plot(history.history['acc'])\n",
        "  plt.plot(history.history['val_acc'])\n",
        "  plt.title('Model accuracy')\n",
        "  plt.ylabel('Accuracy')\n",
        "  plt.xlabel('Epoch')\n",
        "  plt.legend(['Train', 'Test'], loc = 0)"
      ],
      "execution_count": 26,
      "outputs": []
    },
    {
      "cell_type": "code",
      "metadata": {
        "id": "YC2QyA4aCq5e",
        "colab_type": "code",
        "colab": {
          "base_uri": "https://localhost:8080/",
          "height": 298
        },
        "outputId": "16a2279b-1d34-4b8b-ac72-2736573f903e"
      },
      "source": [
        "model = DNN(Nin, Nh_1, Nout)\n",
        "model.summary()"
      ],
      "execution_count": 50,
      "outputs": [
        {
          "output_type": "stream",
          "text": [
            "Model: \"dnn_5\"\n",
            "_________________________________________________________________\n",
            "Layer (type)                 Output Shape              Param #   \n",
            "=================================================================\n",
            "Hidden-1 (Dense)             (None, 100)               78500     \n",
            "_________________________________________________________________\n",
            "dropout_7 (Dropout)          (None, 100)               0         \n",
            "_________________________________________________________________\n",
            "Hidden-2 (Dense)             (None, 50)                5050      \n",
            "_________________________________________________________________\n",
            "dense_8 (Dense)              (None, 10)                510       \n",
            "=================================================================\n",
            "Total params: 84,060\n",
            "Trainable params: 84,060\n",
            "Non-trainable params: 0\n",
            "_________________________________________________________________\n"
          ],
          "name": "stdout"
        }
      ]
    },
    {
      "cell_type": "code",
      "metadata": {
        "id": "JdDhpL-7RS4_",
        "colab_type": "code",
        "colab": {
          "base_uri": "https://localhost:8080/",
          "height": 422
        },
        "outputId": "360c9442-0723-45f8-e42f-09985a32257b"
      },
      "source": [
        "model = DNN_models_class(Nin, Nh_1, Nout)\n",
        "model.summary()"
      ],
      "execution_count": 51,
      "outputs": [
        {
          "output_type": "stream",
          "text": [
            "Model: \"dnn_models_class_2\"\n",
            "__________________________________________________________________________________________________\n",
            "Layer (type)                    Output Shape         Param #     Connected to                     \n",
            "==================================================================================================\n",
            "input_2 (InputLayer)            (None, 784)          0                                            \n",
            "__________________________________________________________________________________________________\n",
            "dense_9 (Dense)                 (None, 100)          78500       input_2[0][0]                    \n",
            "__________________________________________________________________________________________________\n",
            "activation_3 (Activation)       multiple             0           dense_9[0][0]                    \n",
            "                                                                 dense_10[0][0]                   \n",
            "__________________________________________________________________________________________________\n",
            "dropout_8 (Dropout)             (None, 100)          0           activation_3[0][0]               \n",
            "__________________________________________________________________________________________________\n",
            "dense_10 (Dense)                (None, 50)           5050        dropout_8[0][0]                  \n",
            "__________________________________________________________________________________________________\n",
            "dense_11 (Dense)                (None, 10)           510         activation_3[1][0]               \n",
            "__________________________________________________________________________________________________\n",
            "activation_4 (Activation)       (None, 10)           0           dense_11[0][0]                   \n",
            "==================================================================================================\n",
            "Total params: 84,060\n",
            "Trainable params: 84,060\n",
            "Non-trainable params: 0\n",
            "__________________________________________________________________________________________________\n"
          ],
          "name": "stdout"
        }
      ]
    },
    {
      "cell_type": "code",
      "metadata": {
        "id": "6h-hhOE5_-gN",
        "colab_type": "code",
        "colab": {
          "base_uri": "https://localhost:8080/",
          "height": 422
        },
        "outputId": "297879bd-dc8d-4b55-a926-b3ecee3533c1"
      },
      "source": [
        "history = model.fit(X_train, Y_train, epochs = 10, batch_size = 100, validation_split=0.2)\n",
        "performance_test = model.evaluate(X_test, Y_test, batch_size=100)\n",
        "print('Test Loss and Accuracy ->', performance_test)"
      ],
      "execution_count": 28,
      "outputs": [
        {
          "output_type": "stream",
          "text": [
            "Train on 48000 samples, validate on 12000 samples\n",
            "Epoch 1/10\n",
            "48000/48000 [==============================] - 3s 56us/step - loss: 1.4167 - accuracy: 0.5554 - val_loss: 0.7663 - val_accuracy: 0.7688\n",
            "Epoch 2/10\n",
            "48000/48000 [==============================] - 2s 50us/step - loss: 0.7075 - accuracy: 0.7763 - val_loss: 0.5249 - val_accuracy: 0.8533\n",
            "Epoch 3/10\n",
            "48000/48000 [==============================] - 2s 49us/step - loss: 0.5321 - accuracy: 0.8417 - val_loss: 0.4136 - val_accuracy: 0.8823\n",
            "Epoch 4/10\n",
            "48000/48000 [==============================] - 2s 49us/step - loss: 0.4446 - accuracy: 0.8689 - val_loss: 0.3515 - val_accuracy: 0.9007\n",
            "Epoch 5/10\n",
            "48000/48000 [==============================] - 2s 50us/step - loss: 0.3901 - accuracy: 0.8851 - val_loss: 0.3139 - val_accuracy: 0.9093\n",
            "Epoch 6/10\n",
            "48000/48000 [==============================] - 2s 50us/step - loss: 0.3550 - accuracy: 0.8955 - val_loss: 0.2966 - val_accuracy: 0.9137\n",
            "Epoch 7/10\n",
            "48000/48000 [==============================] - 2s 50us/step - loss: 0.3267 - accuracy: 0.9041 - val_loss: 0.2640 - val_accuracy: 0.9235\n",
            "Epoch 8/10\n",
            "48000/48000 [==============================] - 2s 50us/step - loss: 0.3038 - accuracy: 0.9110 - val_loss: 0.2470 - val_accuracy: 0.9273\n",
            "Epoch 9/10\n",
            "48000/48000 [==============================] - 2s 50us/step - loss: 0.2826 - accuracy: 0.9168 - val_loss: 0.2336 - val_accuracy: 0.9323\n",
            "Epoch 10/10\n",
            "48000/48000 [==============================] - 2s 51us/step - loss: 0.2673 - accuracy: 0.9215 - val_loss: 0.2236 - val_accuracy: 0.9345\n",
            "10000/10000 [==============================] - 0s 17us/step\n",
            "Test Loss and Accuracy -> [0.2252685206476599, 0.9301999807357788]\n"
          ],
          "name": "stdout"
        }
      ]
    },
    {
      "cell_type": "code",
      "metadata": {
        "id": "Ma81PNN_TKz3",
        "colab_type": "code",
        "colab": {
          "base_uri": "https://localhost:8080/",
          "height": 422
        },
        "outputId": "60ce3158-ad96-4b34-cf48-fa784a0390e3"
      },
      "source": [
        "history = model.fit(X_train, Y_train, epochs = 10, batch_size = 100, validation_split=0.2)\n",
        "performance_test = model.evaluate(X_test, Y_test, batch_size=100)\n",
        "print('Test Loss and Accuracy ->', performance_test)"
      ],
      "execution_count": 52,
      "outputs": [
        {
          "output_type": "stream",
          "text": [
            "Train on 48000 samples, validate on 12000 samples\n",
            "Epoch 1/10\n",
            "48000/48000 [==============================] - 3s 53us/step - loss: 1.5481 - accuracy: 0.5272 - val_loss: 0.8190 - val_accuracy: 0.7699\n",
            "Epoch 2/10\n",
            "48000/48000 [==============================] - 2s 51us/step - loss: 0.7110 - accuracy: 0.7859 - val_loss: 0.4988 - val_accuracy: 0.8633\n",
            "Epoch 3/10\n",
            "48000/48000 [==============================] - 2s 51us/step - loss: 0.5076 - accuracy: 0.8508 - val_loss: 0.3903 - val_accuracy: 0.8903\n",
            "Epoch 4/10\n",
            "48000/48000 [==============================] - 2s 52us/step - loss: 0.4279 - accuracy: 0.8752 - val_loss: 0.3375 - val_accuracy: 0.9032\n",
            "Epoch 5/10\n",
            "48000/48000 [==============================] - 2s 51us/step - loss: 0.3815 - accuracy: 0.8880 - val_loss: 0.3043 - val_accuracy: 0.9115\n",
            "Epoch 6/10\n",
            "48000/48000 [==============================] - 2s 51us/step - loss: 0.3527 - accuracy: 0.8979 - val_loss: 0.2808 - val_accuracy: 0.9179\n",
            "Epoch 7/10\n",
            "48000/48000 [==============================] - 2s 51us/step - loss: 0.3258 - accuracy: 0.9038 - val_loss: 0.2629 - val_accuracy: 0.9232\n",
            "Epoch 8/10\n",
            "48000/48000 [==============================] - 3s 52us/step - loss: 0.3050 - accuracy: 0.9104 - val_loss: 0.2435 - val_accuracy: 0.9306\n",
            "Epoch 9/10\n",
            "48000/48000 [==============================] - 2s 51us/step - loss: 0.2861 - accuracy: 0.9165 - val_loss: 0.2278 - val_accuracy: 0.9337\n",
            "Epoch 10/10\n",
            "48000/48000 [==============================] - 2s 51us/step - loss: 0.2694 - accuracy: 0.9215 - val_loss: 0.2181 - val_accuracy: 0.9364\n",
            "10000/10000 [==============================] - 0s 35us/step\n",
            "Test Loss and Accuracy -> [0.22452041730284691, 0.9320999979972839]\n"
          ],
          "name": "stdout"
        }
      ]
    },
    {
      "cell_type": "code",
      "metadata": {
        "id": "FXwfotE5OSfY",
        "colab_type": "code",
        "colab": {
          "base_uri": "https://localhost:8080/",
          "height": 295
        },
        "outputId": "c2af5c9c-981c-4d49-f1b8-328d153b6658"
      },
      "source": [
        "import matplotlib.pyplot as plt\n",
        "from kerasapp.skeras import plot_loss\n",
        "\n",
        "plot_loss(history)\n",
        "plt.show()"
      ],
      "execution_count": 46,
      "outputs": [
        {
          "output_type": "display_data",
          "data": {
            "image/png": "[encoded data removed]",
            "text/plain": [
              "<Figure size 432x288 with 1 Axes>"
            ]
          },
          "metadata": {
            "tags": [],
            "needs_background": "light"
          }
        }
      ]
    }
  ]
}